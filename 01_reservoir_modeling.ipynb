{
 "cells": [
  {
   "cell_type": "markdown",
   "id": "f8ff9852",
   "metadata": {},
   "source": [
    "# Reservoir Behavior Prediction using ML\n",
    "This notebook demonstrates how to use machine learning models to predict cumulative oil production (`Np`) from reservoir properties using synthetic data."
   ]
  },
  {
   "cell_type": "code",
   "execution_count": null,
   "id": "a9fd7f05",
   "metadata": {},
   "outputs": [],
   "source": [
    "import pandas as pd\n",
    "import numpy as np\n",
    "import matplotlib.pyplot as plt\n",
    "import seaborn as sns\n",
    "\n",
    "from sklearn.model_selection import train_test_split\n",
    "from sklearn.ensemble import RandomForestRegressor\n",
    "from sklearn.metrics import mean_squared_error, r2_score\n",
    "\n",
    "import xgboost as xgb\n"
   ]
  },
  {
   "cell_type": "code",
   "execution_count": null,
   "id": "550a8e12",
   "metadata": {},
   "outputs": [],
   "source": [
    "# Load synthetic data\n",
    "df = pd.read_csv('../data/synthetic_reservoir_data.csv')\n",
    "df.head()"
   ]
  },
  {
   "cell_type": "code",
   "execution_count": null,
   "id": "462eb40c",
   "metadata": {},
   "outputs": [],
   "source": [
    "# Pairplot and correlation heatmap\n",
    "sns.pairplot(df[['porosity', 'permeability', 'pressure_initial', 'Np']])\n",
    "plt.show()\n",
    "\n",
    "sns.heatmap(df.corr(), annot=True, cmap='coolwarm')\n",
    "plt.show()\n"
   ]
  },
  {
   "cell_type": "code",
   "execution_count": null,
   "id": "c4e8c3f7",
   "metadata": {},
   "outputs": [],
   "source": [
    "# Define features and target\n",
    "X = df.drop(columns=['Np'])\n",
    "y = df['Np']\n",
    "\n",
    "# Train/test split\n",
    "X_train, X_test, y_train, y_test = train_test_split(X, y, test_size=0.2, random_state=42)"
   ]
  },
  {
   "cell_type": "code",
   "execution_count": null,
   "id": "1571e44c",
   "metadata": {},
   "outputs": [],
   "source": [
    "# Train RandomForest\n",
    "rf = RandomForestRegressor(n_estimators=100, random_state=42)\n",
    "rf.fit(X_train, y_train)\n",
    "\n",
    "y_pred_rf = rf.predict(X_test)\n",
    "\n",
    "print('RandomForest RMSE:', np.sqrt(mean_squared_error(y_test, y_pred_rf)))\n",
    "print('RandomForest R2:', r2_score(y_test, y_pred_rf))"
   ]
  },
  {
   "cell_type": "code",
   "execution_count": null,
   "id": "fe17e87a",
   "metadata": {},
   "outputs": [],
   "source": [
    "# Train XGBoost\n",
    "xgb_model = xgb.XGBRegressor(n_estimators=200, learning_rate=0.05, max_depth=5, random_state=42)\n",
    "xgb_model.fit(X_train, y_train)\n",
    "\n",
    "y_pred_xgb = xgb_model.predict(X_test)\n",
    "\n",
    "print('XGBoost RMSE:', np.sqrt(mean_squared_error(y_test, y_pred_xgb)))\n",
    "print('XGBoost R2:', r2_score(y_test, y_pred_xgb))"
   ]
  },
  {
   "cell_type": "code",
   "execution_count": null,
   "id": "11bfbb52",
   "metadata": {},
   "outputs": [],
   "source": [
    "# Plot feature importance\n",
    "xgb.plot_importance(xgb_model)\n",
    "plt.show()"
   ]
  }
 ],
 "metadata": {},
 "nbformat": 4,
 "nbformat_minor": 5
}
